{
 "cells": [
  {
   "cell_type": "code",
   "execution_count": 1,
   "metadata": {
    "ExecuteTime": {
     "end_time": "2018-07-10T07:30:35.937598Z",
     "start_time": "2018-07-10T07:30:34.986012Z"
    }
   },
   "outputs": [],
   "source": [
    "import pandas as pd\n",
    "from sklearn.datasets import load_svmlight_file\n",
    "from xgboost.sklearn import XGBClassifier\n",
    "import numpy as np\n",
    "from scipy.sparse import csr_matrix, coo_matrix, hstack"
   ]
  },
  {
   "cell_type": "code",
   "execution_count": 2,
   "metadata": {
    "ExecuteTime": {
     "end_time": "2018-07-10T07:33:27.972406Z",
     "start_time": "2018-07-10T07:32:13.530429Z"
    }
   },
   "outputs": [],
   "source": [
    "x_train, y_train = load_svmlight_file('../data/116_train_transformed.libsvm')\n",
    "x_test, y_test = load_svmlight_file('../data/116_test_transformed.libsvm')"
   ]
  }
 ],
 "metadata": {
  "kernelspec": {
   "display_name": "Python 3",
   "language": "python",
   "name": "python3"
  },
  "language_info": {
   "codemirror_mode": {
    "name": "ipython",
    "version": 3
   },
   "file_extension": ".py",
   "mimetype": "text/x-python",
   "name": "python",
   "nbconvert_exporter": "python",
   "pygments_lexer": "ipython3",
   "version": "3.6.4"
  }
 },
 "nbformat": 4,
 "nbformat_minor": 2
}
